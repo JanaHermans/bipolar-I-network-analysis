{
 "cells": [
  {
   "cell_type": "code",
   "execution_count": 2,
   "id": "af2fc88c",
   "metadata": {},
   "outputs": [],
   "source": [
    "#This script creates performs clustering analysis usnig Uniform Manifold Approximation and \n",
    "# Projection (UMAP) as a dimension reduction technique and partitioning around medoids (PAM)\n",
    "# to determine the optimal number of clusters."
   ]
  },
  {
   "cell_type": "code",
   "execution_count": null,
   "id": "aabbb623",
   "metadata": {},
   "outputs": [],
   "source": [
    "import umap\n",
    "import umap.plot\n",
    "from sklearn.datasets import load_digits\n",
    "import matplotlib.pyplot as plt\n",
    "import pandas as pd\n",
    "import os\n",
    "import numpy"
   ]
  },
  {
   "cell_type": "code",
   "execution_count": 3,
   "id": "634c78bc",
   "metadata": {},
   "outputs": [
    {
     "name": "stdout",
     "output_type": "stream",
     "text": [
      "       src_subject_id  interview_age sex  elevmood  incmotor  sexinter  \\\n",
      "10112           10112            684   F       0.0       0.0       0.0   \n",
      "10201           10201            612   M       0.0       0.0       0.0   \n",
      "10110           10110            648   F       0.0       0.0       0.0   \n",
      "10207           10207            456   M       2.0       0.0       0.0   \n",
      "10209           10209            600   F       2.5       3.0       0.0   \n",
      "...               ...            ...  ..       ...       ...       ...   \n",
      "10257           10257            612   F       0.0       0.0       0.0   \n",
      "10258           10258            696   M       0.0       0.0       0.0   \n",
      "10268           10268            564   F       0.0       0.0       2.5   \n",
      "10271           10271            648   F       0.0       0.0       0.0   \n",
      "10273           10273            372   M       1.0       3.5       2.0   \n",
      "\n",
      "       sleepamt  irritamt  speech  langdisr  content  disrupt  appearnc  \\\n",
      "10112       0.0         0       0       0.0        0        0       0.5   \n",
      "10201       1.5         4       0       0.0        0        3       1.0   \n",
      "10110       0.0         0       0       2.0        0        0       0.0   \n",
      "10207       0.0         5       1       0.0        8        4       2.0   \n",
      "10209       2.5         4       5       2.5        0        3       0.0   \n",
      "...         ...       ...     ...       ...      ...      ...       ...   \n",
      "10257       2.0         4       0       0.0        8        3       3.0   \n",
      "10258       2.5         4       0       2.5        0        0       2.5   \n",
      "10268       0.0         4       6       1.5        2        4       0.0   \n",
      "10271       2.5         4       6       2.5        0        0       2.5   \n",
      "10273       1.5         4       6       2.5        0        5       3.0   \n",
      "\n",
      "       insight diagnosis  \n",
      "10112      0.0       BDP  \n",
      "10201      0.5       BDP  \n",
      "10110      0.0        BD  \n",
      "10207      2.0       BDP  \n",
      "10209      0.0       BDP  \n",
      "...        ...       ...  \n",
      "10257      0.0       BDP  \n",
      "10258      1.5        BD  \n",
      "10268      0.0        BD  \n",
      "10271      0.0        BD  \n",
      "10273      0.0        BD  \n",
      "\n",
      "[104 rows x 15 columns]\n"
     ]
    }
   ],
   "source": [
    "os.chdir(\"/Users/janahermans/Documents/\")\n",
    "clin_data = pd.read_table(\"ymrs_all_FINAL_SELECTED.txt\", sep = \"|\")\n",
    "colnames = list(clin_data.columns) #save column names which might come in handy later\n",
    "print(clin_data)"
   ]
  },
  {
   "cell_type": "code",
   "execution_count": 4,
   "id": "e52a2db9",
   "metadata": {},
   "outputs": [
    {
     "name": "stdout",
     "output_type": "stream",
     "text": [
      "['BDP' 'BDP' 'BD' 'BDP' 'BDP' 'BDP' 'BD' 'BD' 'BDP' 'BD' 'BDP' 'BDP' 'BD'\n",
      " 'BD' 'BDP' 'BD' 'BDP' 'BDP' 'BDP' 'BD' 'BD' 'BD' 'BDP' 'BDP' 'BDP' 'BDP'\n",
      " 'BDP' 'BDP' 'BD' 'BD' 'BDP' 'BD' 'BDP' 'BD' 'BDP' 'BDP' 'BD' 'BDP' 'BDP'\n",
      " 'BD' 'BD' 'BDP' 'BD' 'BDP' 'BDP' 'BD' 'BD' 'BDP' 'BD' 'BD' 'BDP' 'BDP'\n",
      " 'BD' 'BD' 'BD' 'BD' 'BD' 'BDP' 'BDP' 'BDP' 'BD' 'BDP' 'BDP' 'BD' 'BD'\n",
      " 'BD' 'BDP' 'BDP' 'BDP' 'BDP' 'BDP' 'BD' 'BD' 'BD' 'BDP' 'BD' 'BDP' 'BD'\n",
      " 'BDP' 'BDP' 'BDP' 'BD' 'BD' 'BD' 'BD' 'BDP' 'BDP' 'BD' 'BD' 'BDP' 'BDP'\n",
      " 'BD' 'BDP' 'BDP' 'BDP' 'BDP' 'BDP' 'BDP' 'BDP' 'BDP' 'BD' 'BD' 'BD' 'BD']\n",
      "['F' 'M' 'F' 'M' 'F' 'M' 'M' 'F' 'F' 'F' 'M' 'F' 'F' 'F' 'M' 'F' 'M' 'M'\n",
      " 'F' 'F' 'F' 'M' 'M' 'F' 'M' 'M' 'F' 'F' 'F' 'M' 'M' 'M' 'M' 'F' 'F' 'F'\n",
      " 'M' 'M' 'M' 'M' 'F' 'F' 'F' 'F' 'F' 'M' 'F' 'M' 'M' 'M' 'M' 'M' 'F' 'F'\n",
      " 'M' 'F' 'F' 'M' 'F' 'M' 'F' 'M' 'F' 'F' 'M' 'F' 'M' 'F' 'M' 'M' 'F' 'F'\n",
      " 'F' 'M' 'F' 'F' 'F' 'F' 'F' 'M' 'F' 'F' 'F' 'F' 'F' 'F' 'F' 'F' 'M' 'M'\n",
      " 'F' 'F' 'F' 'M' 'F' 'M' 'F' 'F' 'M' 'F' 'M' 'F' 'F' 'M']\n"
     ]
    }
   ],
   "source": [
    "clin_data = numpy.array(clin_data)\n",
    "diagnosis = numpy.array(clin_data[:,14])\n",
    "print(diagnosis)\n",
    "sex = numpy.array(clin_data[:,2])\n",
    "print(sex)"
   ]
  },
  {
   "cell_type": "code",
   "execution_count": 5,
   "id": "10089bee",
   "metadata": {},
   "outputs": [],
   "source": [
    "for i in range(len(diagnosis)):\n",
    "        if diagnosis[i,] == 'BD':\n",
    "            diagnosis[i,] = 1\n",
    "        elif diagnosis[i,] == 'BDP':\n",
    "            diagnosis[i,] = 2\n",
    "#print(diagnosis)"
   ]
  },
  {
   "cell_type": "code",
   "execution_count": 6,
   "id": "ee41992c",
   "metadata": {},
   "outputs": [],
   "source": [
    "for i in range(len(sex)):\n",
    "        if sex[i,] == 'F':\n",
    "            sex[i,] = 1\n",
    "        elif sex[i,] == 'M':\n",
    "            sex[i,] = 2\n",
    "#print(sex)"
   ]
  },
  {
   "cell_type": "code",
   "execution_count": 7,
   "id": "fff0afd9",
   "metadata": {},
   "outputs": [
    {
     "name": "stdout",
     "output_type": "stream",
     "text": [
      "[[0.0 0.0 0.0 ... 0 0.5 0.0]\n",
      " [0.0 0.0 0.0 ... 3 1.0 0.5]\n",
      " [0.0 0.0 0.0 ... 0 0.0 0.0]\n",
      " ...\n",
      " [0.0 0.0 2.5 ... 4 0.0 0.0]\n",
      " [0.0 0.0 0.0 ... 0 2.5 0.0]\n",
      " [1.0 3.5 2.0 ... 5 3.0 0.0]]\n"
     ]
    }
   ],
   "source": [
    "#create variable data with only the scores (e.g. excl. diagnosis, sex, age)\n",
    "clin_data = numpy.array(clin_data)\n",
    "data = numpy.delete(clin_data, [0,1,2,14], 1)\n",
    "print(data)"
   ]
  },
  {
   "cell_type": "code",
   "execution_count": 4562,
   "id": "b8b2135d",
   "metadata": {},
   "outputs": [],
   "source": [
    "#optional: select only a subsection of the clinical scores\n",
    "#data = numpy.array(data)\n",
    "#data = np.delete(data, [1,4], 1)\n",
    "#print(data)"
   ]
  },
  {
   "cell_type": "code",
   "execution_count": 357,
   "id": "15b6c544",
   "metadata": {},
   "outputs": [],
   "source": [
    "#perform UMAP\n",
    "mapper = umap.UMAP(random_state=76).fit_transform(data)"
   ]
  },
  {
   "cell_type": "code",
   "execution_count": 359,
   "id": "1073cf2c",
   "metadata": {},
   "outputs": [],
   "source": [
    "#remove sub-10854\n",
    "#mapper = numpy.delete(mapper, [90], 0)\n",
    "#diagnosis = numpy.delete(diagnosis, [90], 0)\n",
    "#sex = numpy.delete(sex, [90], 0)\n",
    "#for CAS --> mapper = numpy.delete(mapper, [75], 0)"
   ]
  },
  {
   "cell_type": "code",
   "execution_count": 358,
   "id": "8e9fbfa2",
   "metadata": {},
   "outputs": [
    {
     "name": "stdout",
     "output_type": "stream",
     "text": [
      "<matplotlib.collections.PathCollection object at 0x12a59e340>\n"
     ]
    },
    {
     "data": {
      "image/png": "[encoded data removed]",
      "text/plain": [
       "<Figure size 432x288 with 1 Axes>"
      ]
     },
     "metadata": {
      "needs_background": "light"
     },
     "output_type": "display_data"
    }
   ],
   "source": [
    "#plot scatterplot of data after UMAP\n",
    "print(plt.scatter(mapper[:, 0], mapper[:, 1]))"
   ]
  },
  {
   "cell_type": "code",
   "execution_count": 340,
   "id": "ec9d4698",
   "metadata": {},
   "outputs": [],
   "source": [
    "#create variable X on which to perform partitioning around mediods (PAM)\n",
    "X = numpy.asarray(mapper)"
   ]
  },
  {
   "cell_type": "code",
   "execution_count": 341,
   "id": "4459a4cf",
   "metadata": {},
   "outputs": [],
   "source": [
    "#perform PAM\n",
    "from sklearn_extra.cluster import KMedoids\n",
    "kmedoids = KMedoids(n_clusters=4, method='pam').fit(X)"
   ]
  },
  {
   "cell_type": "code",
   "execution_count": 342,
   "id": "5be6dc3b",
   "metadata": {},
   "outputs": [],
   "source": [
    "#set colours to cluster labels\n",
    "unique_labels = set(kmedoids.labels_)\n",
    "colors = [\n",
    "    plt.cm.Spectral(each) for each in numpy.linspace(0, 1, len(unique_labels))\n",
    "]"
   ]
  },
  {
   "cell_type": "code",
   "execution_count": 343,
   "id": "8eff7497",
   "metadata": {},
   "outputs": [
    {
     "name": "stdout",
     "output_type": "stream",
     "text": [
      "[<matplotlib.lines.Line2D object at 0x129e872e0>]\n"
     ]
    },
    {
     "data": {
      "image/png": "[encoded data removed]",
      "text/plain": [
       "<Figure size 432x288 with 1 Axes>"
      ]
     },
     "metadata": {
      "needs_background": "light"
     },
     "output_type": "display_data"
    }
   ],
   "source": [
    "#plot the data using colours for the clusters\n",
    "for k, col in zip(unique_labels, colors):\n",
    "\n",
    "    class_member_mask = kmedoids.labels_ == k\n",
    "\n",
    "    xy = X[class_member_mask]\n",
    "    ax = plt.plot(\n",
    "        xy[:, 0],\n",
    "        xy[:, 1],\n",
    "        \"o\",\n",
    "        markerfacecolor=tuple(col),\n",
    "        markeredgecolor=\"k\",\n",
    "        markersize=6,\n",
    "    )\n",
    "#plt.suptitle(\"Clustering based on YMRS scores using UMAP\", fontsize=12)\n",
    "#plt.title(\"Based on all scores\", fontsize=8)\n",
    "print(ax)"
   ]
  },
  {
   "cell_type": "code",
   "execution_count": 344,
   "id": "2c76c8bd",
   "metadata": {},
   "outputs": [
    {
     "data": {
      "image/png": "[encoded data removed]",
      "text/plain": [
       "<Figure size 432x288 with 1 Axes>"
      ]
     },
     "metadata": {
      "needs_background": "light"
     },
     "output_type": "display_data"
    }
   ],
   "source": [
    "#plot sex distribution in the scatterplot using colour\n",
    "Dist = pd.DataFrame(mapper)\n",
    "Dist[\"Cluster\"] = kmedoids.labels_\n",
    "Dist = numpy.array(Dist)\n",
    "#print(Dist) #optional: print to check if Dist\n",
    "scatter_x = Dist[:,0]\n",
    "scatter_y = Dist[:,1]\n",
    "cdict = {0: 'yellow', 1: 'lightskyblue', 2: 'orange', 3: 'blue'}\n",
    "\n",
    "fig, ax = plt.subplots()\n",
    "for g in numpy.unique(Dist[:,2]):\n",
    "    ix = numpy.where(Dist[:,2] == g)\n",
    "    ax.scatter(scatter_x[ix], scatter_y[ix], c = cdict[g], label = g, edgecolors='black')\n",
    "plt.suptitle(\"Clustering based on YMRS scores using UMAP\", fontsize=12)\n",
    "#plt.title(\"Based on YMRS\", fontsize=8)\n",
    "L=ax.legend()\n",
    "L.get_texts()[0].set_text('Cluster 0 (n = 41)')\n",
    "L.get_texts()[1].set_text('Cluster 1 (n = 14)')\n",
    "L.get_texts()[2].set_text('Cluster 2 (n = 14)')\n",
    "L.get_texts()[3].set_text('Cluster 3 (n = 35)')\n",
    "#plt.savefig(\"YMRS_cluster_plot_f.eps\", dpi=1200)\n",
    "plt.show()"
   ]
  },
  {
   "cell_type": "code",
   "execution_count": 345,
   "id": "2c822739",
   "metadata": {},
   "outputs": [
    {
     "name": "stdout",
     "output_type": "stream",
     "text": [
      "[0 3 0 1 2 1 3 2 0 0 3 2 3 3 3 0 2 3 3 2 3 2 2 3 1 1 1 3 3 0 0 0 0 0 0 0 0\n",
      " 0 0 0 0 0 0 0 0 0 0 1 0 0 0 0 0 0 0 0 0 0 0 0 0 0 0 0 3 0 3 1 0 3 3 3 3 3\n",
      " 3 3 1 3 3 3 1 2 3 2 2 3 3 3 3 1 2 3 3 3 1 1 3 3 1 1 3 2 2 2]\n"
     ]
    }
   ],
   "source": [
    "print(kmedoids.labels_)"
   ]
  },
  {
   "cell_type": "code",
   "execution_count": 556,
   "id": "11a89a77",
   "metadata": {},
   "outputs": [
    {
     "name": "stdout",
     "output_type": "stream",
     "text": [
      "[0 3 0 1 2 1 3 2 0 0 3 2 3 3 3 0 2 3 3 2 3 2 2 3 1 1 1 3 3 0 0 0 0 0 0 0 0\n",
      " 0 0 0 0 0 0 0 0 0 0 1 0 0 0 0 0 0 0 0 0 0 0 0 0 0 0 0 3 0 3 1 0 3 3 3 3 3\n",
      " 3 3 1 3 3 3 1 2 3 2 2 3 3 3 3 1 2 3 3 3 1 1 3 3 1 1 3 2 2 2]\n"
     ]
    }
   ],
   "source": [
    "print(kmedoids.labels_)"
   ]
  },
  {
   "cell_type": "code",
   "execution_count": 346,
   "id": "1725ab80",
   "metadata": {},
   "outputs": [],
   "source": [
    "#try out PAM using different numbers of clusters\n",
    "from sklearn.metrics import silhouette_score\n",
    "range_n_clusters = [2, 3, 4, 5, 6, 7, 8, 9, 10]\n",
    "\n",
    "silhouette_avg = []\n",
    "for num_clusters in range_n_clusters:\n",
    "    # initialise kmeans\n",
    "    kmeans = KMedoids(n_clusters=num_clusters, method='pam').fit(X)\n",
    "    cluster_labels = kmeans.labels_\n",
    "\n",
    "    # silhouette score\n",
    "    silhouette_avg.append(silhouette_score(X, cluster_labels))"
   ]
  },
  {
   "cell_type": "code",
   "execution_count": 347,
   "id": "822033b5",
   "metadata": {
    "scrolled": true
   },
   "outputs": [
    {
     "data": {
      "image/png": "[encoded data removed]",
      "text/plain": [
       "<Figure size 432x288 with 1 Axes>"
      ]
     },
     "metadata": {
      "needs_background": "light"
     },
     "output_type": "display_data"
    }
   ],
   "source": [
    "#plot the Silhouette scores of different k's\n",
    "plt.plot(range_n_clusters,silhouette_avg)\n",
    "plt.xlabel(\"Values of K\") \n",
    "plt.ylabel(\"Silhouette score\") \n",
    "plt.title(\"Silhouette analysis For Optimal k\")\n",
    "plt.show()"
   ]
  },
  {
   "cell_type": "code",
   "execution_count": 348,
   "id": "6ded67b8",
   "metadata": {},
   "outputs": [
    {
     "name": "stdout",
     "output_type": "stream",
     "text": [
      "0.82350355\n"
     ]
    }
   ],
   "source": [
    "#calculate the exact Silhouette score for a specified k\n",
    "kmeans = KMedoids(n_clusters=4, method='pam').fit(X)\n",
    "cluster_labels = kmeans.labels_\n",
    "print(silhouette_score(X, cluster_labels))"
   ]
  },
  {
   "cell_type": "code",
   "execution_count": 349,
   "id": "e3b76ac0",
   "metadata": {},
   "outputs": [
    {
     "name": "stdout",
     "output_type": "stream",
     "text": [
      "Counter({0: 41, 3: 35, 1: 14, 2: 14})\n"
     ]
    }
   ],
   "source": [
    "#count the number of entries in each cluster\n",
    "from collections import Counter\n",
    "Counter(kmedoids.labels_)\n",
    "print(Counter(kmedoids.labels_))"
   ]
  },
  {
   "cell_type": "code",
   "execution_count": 350,
   "id": "b1cbc01c",
   "metadata": {
    "scrolled": true
   },
   "outputs": [
    {
     "name": "stderr",
     "output_type": "stream",
     "text": [
      "The PostScript backend does not support transparency; partially transparent artists will be rendered opaque.\n",
      "The PostScript backend does not support transparency; partially transparent artists will be rendered opaque.\n"
     ]
    },
    {
     "data": {
      "image/png": "[encoded data removed]",
      "text/plain": [
       "<Figure size 432x288 with 1 Axes>"
      ]
     },
     "metadata": {
      "needs_background": "light"
     },
     "output_type": "display_data"
    }
   ],
   "source": [
    "#plot sex distribution in the scatterplot using colour\n",
    "Dist = pd.DataFrame(mapper)\n",
    "Dist[\"Sex\"] = sex\n",
    "Dist = numpy.array(Dist)\n",
    "#print(Dist) #optional: print to check if Dist\n",
    "scatter_x = Dist[:,0]\n",
    "scatter_y = Dist[:,1]\n",
    "cdict = {1: 'green', 2: 'yellow'}\n",
    "cdict2 = {1: 'darkgreen', 2: 'goldenrod'}\n",
    "\n",
    "fig, ax = plt.subplots()\n",
    "for g in numpy.unique(Dist[:,2]):\n",
    "    ix = numpy.where(Dist[:,2] == g)\n",
    "    ax.scatter(scatter_x[ix], scatter_y[ix], c = cdict[g], label = g, edgecolors=cdict2[g])\n",
    "plt.suptitle(\"Sex distribution\", fontsize=12)\n",
    "plt.title(\"Clustering based on YMRS\", fontsize=8)\n",
    "L=ax.legend()\n",
    "L.get_texts()[0].set_text('Female')\n",
    "L.get_texts()[1].set_text('Male')\n",
    "plt.savefig(\"YMRS_sex_dist_plot.eps\", dpi=1200)\n",
    "plt.show()"
   ]
  },
  {
   "cell_type": "code",
   "execution_count": 351,
   "id": "fc6ab7dc",
   "metadata": {},
   "outputs": [
    {
     "data": {
      "image/png": "[encoded data removed]",
      "text/plain": [
       "<Figure size 432x288 with 1 Axes>"
      ]
     },
     "metadata": {
      "needs_background": "light"
     },
     "output_type": "display_data"
    }
   ],
   "source": [
    "#plot diagnosis distribution in the scatterplot using colour\n",
    "Dist = pd.DataFrame(mapper)\n",
    "Dist[\"Diagnosis\"] = diagnosis\n",
    "Dist = numpy.array(Dist)\n",
    "#print(Dist) #optional: print to check if Dist\n",
    "scatter_x = Dist[:,0]\n",
    "scatter_y = Dist[:,1]\n",
    "cdict = {1: 'hotpink', 2: 'cornflowerblue'}\n",
    "cdict2 = {1: 'mediumvioletred', 2: 'blue'}\n",
    "\n",
    "fig, ax = plt.subplots()\n",
    "for g in numpy.unique(Dist[:,2]):\n",
    "    ix = numpy.where(Dist[:,2] == g)\n",
    "    ax.scatter(scatter_x[ix], scatter_y[ix], c = cdict[g], label = g, edgecolors=cdict2[g])\n",
    "plt.suptitle(\"Diagnosis distribution\", fontsize=12)\n",
    "plt.title(\"Clusterting based YMRS\", fontsize=8)\n",
    "L=ax.legend()\n",
    "L.get_texts()[0].set_text('Bipolar')\n",
    "L.get_texts()[1].set_text('Bipolar with psychosis')\n",
    "#plt.savefig(\"YMRS_diag_dist_plot.eps\", dpi=1200)\n",
    "plt.show()"
   ]
  },
  {
   "cell_type": "code",
   "execution_count": 352,
   "id": "9b0e5275",
   "metadata": {},
   "outputs": [
    {
     "name": "stdout",
     "output_type": "stream",
     "text": [
      "    src_subject_id YMRS_cluster sex elevmood incmotor sexinter sleepamt  \\\n",
      "0            10112            0   F      0.0      0.0      0.0      0.0   \n",
      "1            10201            3   M      0.0      0.0      0.0      1.5   \n",
      "2            10110            0   F      0.0      0.0      0.0      0.0   \n",
      "3            10207            1   M      2.0      0.0      0.0      0.0   \n",
      "4            10209            2   F      2.5      3.0      0.0      2.5   \n",
      "..             ...          ...  ..      ...      ...      ...      ...   \n",
      "99           10257            1   F      0.0      0.0      0.0      2.0   \n",
      "100          10258            3   M      0.0      0.0      0.0      2.5   \n",
      "101          10268            2   F      0.0      0.0      2.5      0.0   \n",
      "102          10271            2   F      0.0      0.0      0.0      2.5   \n",
      "103          10273            2   M      1.0      3.5      2.0      1.5   \n",
      "\n",
      "    irritamt speech langdisr content disrupt appearnc insight diagnosis  \n",
      "0          0      0      0.0       0       0      0.5     0.0       BDP  \n",
      "1          4      0      0.0       0       3      1.0     0.5       BDP  \n",
      "2          0      0      2.0       0       0      0.0     0.0        BD  \n",
      "3          5      1      0.0       8       4      2.0     2.0       BDP  \n",
      "4          4      5      2.5       0       3      0.0     0.0       BDP  \n",
      "..       ...    ...      ...     ...     ...      ...     ...       ...  \n",
      "99         4      0      0.0       8       3      3.0     0.0       BDP  \n",
      "100        4      0      2.5       0       0      2.5     1.5        BD  \n",
      "101        4      6      1.5       2       4      0.0     0.0        BD  \n",
      "102        4      6      2.5       0       0      2.5     0.0        BD  \n",
      "103        4      6      2.5       0       5      3.0     0.0        BD  \n",
      "\n",
      "[104 rows x 15 columns]\n"
     ]
    }
   ],
   "source": [
    "#create dataframe with subject IDs, cluster labels, and clinical scores\n",
    "labeled_ctq = numpy.array(clin_data)\n",
    "labeled_ctq[:,1] = kmedoids.labels_\n",
    "labeled_ctq = pd.DataFrame(labeled_ctq, columns=[colnames]) \n",
    "labeled_ctq = labeled_ctq.rename(columns = {'interview_age':'YMRS_cluster'})\n",
    "#labeled_ctq.to_csv('new_labeled_ymrs_FINAL.txt', sep='|')\n",
    "print(labeled_ctq)"
   ]
  },
  {
   "cell_type": "code",
   "execution_count": 353,
   "id": "981173f4",
   "metadata": {},
   "outputs": [
    {
     "name": "stdout",
     "output_type": "stream",
     "text": [
      "             0          1\n",
      "0     6.696082  32.965454\n",
      "1    10.551227  26.470423\n",
      "2     7.913024  34.551067\n",
      "3    -0.367238  18.622509\n",
      "4    12.427439  16.941372\n",
      "..         ...        ...\n",
      "99   -0.567583  18.792448\n",
      "100  11.330305  26.754276\n",
      "101  11.871490  16.607809\n",
      "102  11.830124  16.680161\n",
      "103  12.344902  16.536623\n",
      "\n",
      "[104 rows x 2 columns]\n"
     ]
    }
   ],
   "source": [
    "mapper_save = numpy.array(mapper)\n",
    "mapper_save = pd.DataFrame(mapper_save)\n",
    "print(mapper_save)\n",
    "#mapper_save.to_csv('mapper_ymrs_f.txt', sep=',')"
   ]
  },
  {
   "cell_type": "code",
   "execution_count": 359,
   "id": "596ef929",
   "metadata": {},
   "outputs": [
    {
     "name": "stdout",
     "output_type": "stream",
     "text": [
      "             0          1\n",
      "0     6.696082  32.965454\n",
      "1    10.551227  26.470423\n",
      "2     7.913024  34.551067\n",
      "3    -0.367238  18.622509\n",
      "4    12.427439  16.941372\n",
      "..         ...        ...\n",
      "99   -0.567583  18.792448\n",
      "100  11.330305  26.754276\n",
      "101  11.871490  16.607810\n",
      "102  11.830124  16.680160\n",
      "103  12.344902  16.536623\n",
      "\n",
      "[104 rows x 2 columns]\n"
     ]
    }
   ],
   "source": [
    "read_trial = pd.read_table(\"mapper_ymrs_f.txt\", sep = \",\", index_col = 0)\n",
    "print(read_trial)"
   ]
  },
  {
   "cell_type": "code",
   "execution_count": 360,
   "id": "e7cc5e74",
   "metadata": {},
   "outputs": [],
   "source": [
    "mapper = numpy.array(read_trial)"
   ]
  }
 ],
 "metadata": {
  "kernelspec": {
   "display_name": "Python 3",
   "language": "python",
   "name": "python3"
  },
  "language_info": {
   "codemirror_mode": {
    "name": "ipython",
    "version": 3
   },
   "file_extension": ".py",
   "mimetype": "text/x-python",
   "name": "python",
   "nbconvert_exporter": "python",
   "pygments_lexer": "ipython3",
   "version": "3.8.8"
  }
 },
 "nbformat": 4,
 "nbformat_minor": 5
}
